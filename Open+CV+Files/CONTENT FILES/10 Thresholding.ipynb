{
 "cells": [
  {
   "cell_type": "markdown",
   "id": "84a554f5-1998-4f87-870d-cbb4fc2bb0b0",
   "metadata": {},
   "source": [
    "# Channel 0 TO 255"
   ]
  },
  {
   "cell_type": "code",
   "execution_count": 1,
   "id": "da5c8bfe-5375-4f5a-8da9-e828e9bbd4ef",
   "metadata": {},
   "outputs": [],
   "source": [
    "import cv2"
   ]
  },
  {
   "cell_type": "code",
   "execution_count": 14,
   "id": "daf4cda6-0bff-441f-b869-c387b46b5263",
   "metadata": {},
   "outputs": [],
   "source": [
    "img = cv2.imread(\"Highway.jpg\",0)"
   ]
  },
  {
   "cell_type": "code",
   "execution_count": 15,
   "id": "5dba5973-e3d7-4b65-9f9a-c04f926ea15f",
   "metadata": {},
   "outputs": [],
   "source": [
    "threshold_value = 100\n",
    "\n",
    "_,binary_threshold = cv2.threshold(img , threshold_value,255,cv2.THRESH_BINARY)\n",
    "\n"
   ]
  },
  {
   "cell_type": "code",
   "execution_count": 16,
   "id": "fef18c75-5a11-47ea-937d-76ee1f6a8973",
   "metadata": {},
   "outputs": [
    {
     "ename": "AttributeError",
     "evalue": "module 'cv2' has no attribute 'destoryAllWindows'",
     "output_type": "error",
     "traceback": [
      "\u001b[1;31m---------------------------------------------------------------------------\u001b[0m",
      "\u001b[1;31mAttributeError\u001b[0m                            Traceback (most recent call last)",
      "Cell \u001b[1;32mIn[16], line 4\u001b[0m\n\u001b[0;32m      2\u001b[0m cv2\u001b[38;5;241m.\u001b[39mimshow(\u001b[38;5;124m\"\u001b[39m\u001b[38;5;124mBinary Threshold\u001b[39m\u001b[38;5;124m\"\u001b[39m , binary_threshold)\n\u001b[0;32m      3\u001b[0m cv2\u001b[38;5;241m.\u001b[39mwaitKey(\u001b[38;5;241m0\u001b[39m)\n\u001b[1;32m----> 4\u001b[0m \u001b[43mcv2\u001b[49m\u001b[38;5;241;43m.\u001b[39;49m\u001b[43mdestoryAllWindows\u001b[49m()\n",
      "\u001b[1;31mAttributeError\u001b[0m: module 'cv2' has no attribute 'destoryAllWindows'"
     ]
    }
   ],
   "source": [
    "cv2.imshow(\"Original Image \" , img)\n",
    "cv2.imshow(\"Binary Threshold\" , binary_threshold)\n",
    "cv2.waitKey(0)\n",
    "cv2.destoryAllWindows()"
   ]
  },
  {
   "cell_type": "code",
   "execution_count": null,
   "id": "4bc5e4e1-a070-4edb-a7af-dd3c0fdf9efd",
   "metadata": {},
   "outputs": [],
   "source": []
  }
 ],
 "metadata": {
  "kernelspec": {
   "display_name": "Python 3 (ipykernel)",
   "language": "python",
   "name": "python3"
  },
  "language_info": {
   "codemirror_mode": {
    "name": "ipython",
    "version": 3
   },
   "file_extension": ".py",
   "mimetype": "text/x-python",
   "name": "python",
   "nbconvert_exporter": "python",
   "pygments_lexer": "ipython3",
   "version": "3.13.2"
  }
 },
 "nbformat": 4,
 "nbformat_minor": 5
}
