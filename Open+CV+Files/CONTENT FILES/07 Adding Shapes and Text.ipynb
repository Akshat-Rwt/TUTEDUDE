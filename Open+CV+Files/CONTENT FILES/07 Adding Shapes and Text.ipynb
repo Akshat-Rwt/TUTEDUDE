{
 "cells": [
  {
   "cell_type": "code",
   "execution_count": 2,
   "id": "4e3ad183-a6d8-4732-a84c-9c7499b7aadb",
   "metadata": {},
   "outputs": [],
   "source": [
    "import cv2\n",
    "import numpy as np "
   ]
  },
  {
   "cell_type": "code",
   "execution_count": 3,
   "id": "65f5f497-0ef2-4e69-b646-de23ada07371",
   "metadata": {},
   "outputs": [],
   "source": [
    "#img = cv2.imread(\"Highway.jpg\" , cv2.IMREAD_COLOR)\n",
    "img = np.zeros(shape = [600,800,3],dtype='uint8')\n",
    "#img.fill(255)"
   ]
  },
  {
   "cell_type": "code",
   "execution_count": 4,
   "id": "a2912dc3-48a9-46be-af77-9ed6fc1f49e9",
   "metadata": {},
   "outputs": [
    {
     "data": {
      "text/plain": [
       "array([[[255,   0],\n",
       "        [255,   0],\n",
       "        [255,   0],\n",
       "        ...,\n",
       "        [  0,   0],\n",
       "        [  0,   0],\n",
       "        [  0,   0]],\n",
       "\n",
       "       [[255,   0],\n",
       "        [255,   0],\n",
       "        [255,   0],\n",
       "        ...,\n",
       "        [  0,   0],\n",
       "        [  0,   0],\n",
       "        [  0,   0]],\n",
       "\n",
       "       [[255,   0],\n",
       "        [255,   0],\n",
       "        [255,   0],\n",
       "        ...,\n",
       "        [  0,   0],\n",
       "        [  0,   0],\n",
       "        [  0,   0]],\n",
       "\n",
       "       ...,\n",
       "\n",
       "       [[  0,   0],\n",
       "        [  0,   0],\n",
       "        [  0,   0],\n",
       "        ...,\n",
       "        [  0,   0],\n",
       "        [  0,   0],\n",
       "        [  0,   0]],\n",
       "\n",
       "       [[  0,   0],\n",
       "        [  0,   0],\n",
       "        [  0,   0],\n",
       "        ...,\n",
       "        [  0,   0],\n",
       "        [  0,   0],\n",
       "        [  0,   0]],\n",
       "\n",
       "       [[  0,   0],\n",
       "        [  0,   0],\n",
       "        [  0,   0],\n",
       "        ...,\n",
       "        [  0,   0],\n",
       "        [  0,   0],\n",
       "        [  0,   0]]], shape=(600, 800, 2), dtype=uint8)"
      ]
     },
     "execution_count": 4,
     "metadata": {},
     "output_type": "execute_result"
    }
   ],
   "source": [
    "cv2.line(img,(0,0),(150,150),(255,0,0), 2)\n",
    "cv2.rectangle(img,(200,150),(250,300) , (0,255,0), 3)\n",
    "cv2.circle(img , (300,75),70,(255,0,255),3)\n",
    "\n",
    "pts_polygon = np.array([[100,50],[100,300],[500,50],[500,300]] , np.int32)\n",
    "cv2.polylines(img, [pts_polygon] , True , (0,255,255) , 3)\n"
   ]
  },
  {
   "cell_type": "code",
   "execution_count": 5,
   "id": "a7685a5a-feb1-478d-bc6d-11d6e6289fed",
   "metadata": {},
   "outputs": [
    {
     "ename": "error",
     "evalue": "OpenCV(4.11.0) d:\\a\\opencv-python\\opencv-python\\opencv\\modules\\imgproc\\src\\color.simd_helpers.hpp:92: error: (-15:Bad number of channels) in function '__cdecl cv::impl::`anonymous-namespace'::CvtHelper<struct cv::impl::`anonymous namespace'::Set<3,4,-1>,struct cv::impl::A0x6a3ea619::Set<3,4,-1>,struct cv::impl::A0x6a3ea619::Set<0,2,5>,4>::CvtHelper(const class cv::_InputArray &,const class cv::_OutputArray &,int)'\n> Invalid number of channels in input image:\n>     'VScn::contains(scn)'\n> where\n>     'scn' is 2\n",
     "output_type": "error",
     "traceback": [
      "\u001b[1;31m---------------------------------------------------------------------------\u001b[0m",
      "\u001b[1;31merror\u001b[0m                                     Traceback (most recent call last)",
      "Cell \u001b[1;32mIn[5], line 4\u001b[0m\n\u001b[0;32m      1\u001b[0m font \u001b[38;5;241m=\u001b[39m cv2\u001b[38;5;241m.\u001b[39mFONT_HERSHEY_DUPLEX\n\u001b[0;32m      2\u001b[0m cv2\u001b[38;5;241m.\u001b[39mputText(img,\u001b[38;5;124m'\u001b[39m\u001b[38;5;124mAKSHAT RAWAT\u001b[39m\u001b[38;5;124m'\u001b[39m , (\u001b[38;5;241m10\u001b[39m,\u001b[38;5;241m500\u001b[39m) , font , \u001b[38;5;241m3\u001b[39m , (\u001b[38;5;241m200\u001b[39m,\u001b[38;5;241m255\u001b[39m,\u001b[38;5;241m255\u001b[39m) , \u001b[38;5;241m8\u001b[39m, cv2\u001b[38;5;241m.\u001b[39mLINE_AA)\n\u001b[1;32m----> 4\u001b[0m \u001b[43mcv2\u001b[49m\u001b[38;5;241;43m.\u001b[39;49m\u001b[43mimshow\u001b[49m\u001b[43m(\u001b[49m\u001b[38;5;124;43m'\u001b[39;49m\u001b[38;5;124;43mImage\u001b[39;49m\u001b[38;5;124;43m'\u001b[39;49m\u001b[43m,\u001b[49m\u001b[43mimg\u001b[49m\u001b[43m)\u001b[49m\n\u001b[0;32m      5\u001b[0m cv2\u001b[38;5;241m.\u001b[39mwaitKey(\u001b[38;5;241m0\u001b[39m)\n\u001b[0;32m      6\u001b[0m cv2\u001b[38;5;241m.\u001b[39mdestoryAllWindows()\n",
      "\u001b[1;31merror\u001b[0m: OpenCV(4.11.0) d:\\a\\opencv-python\\opencv-python\\opencv\\modules\\imgproc\\src\\color.simd_helpers.hpp:92: error: (-15:Bad number of channels) in function '__cdecl cv::impl::`anonymous-namespace'::CvtHelper<struct cv::impl::`anonymous namespace'::Set<3,4,-1>,struct cv::impl::A0x6a3ea619::Set<3,4,-1>,struct cv::impl::A0x6a3ea619::Set<0,2,5>,4>::CvtHelper(const class cv::_InputArray &,const class cv::_OutputArray &,int)'\n> Invalid number of channels in input image:\n>     'VScn::contains(scn)'\n> where\n>     'scn' is 2\n"
     ]
    }
   ],
   "source": [
    "font = cv2.FONT_HERSHEY_DUPLEX\n",
    "cv2.putText(img,'AKSHAT RAWAT' , (10,500) , font , 3 , (200,255,255) , 8, cv2.LINE_AA)\n",
    "\n",
    "cv2.imshow('Image',img)\n",
    "cv2.waitKey(0)\n",
    "cv2.destoryAllWindows()"
   ]
  },
  {
   "cell_type": "code",
   "execution_count": null,
   "id": "dfb3419f-1ed8-4e13-99ee-413c1c89bf9f",
   "metadata": {},
   "outputs": [],
   "source": []
  }
 ],
 "metadata": {
  "kernelspec": {
   "display_name": "Python 3 (ipykernel)",
   "language": "python",
   "name": "python3"
  },
  "language_info": {
   "codemirror_mode": {
    "name": "ipython",
    "version": 3
   },
   "file_extension": ".py",
   "mimetype": "text/x-python",
   "name": "python",
   "nbconvert_exporter": "python",
   "pygments_lexer": "ipython3",
   "version": "3.13.2"
  }
 },
 "nbformat": 4,
 "nbformat_minor": 5
}
