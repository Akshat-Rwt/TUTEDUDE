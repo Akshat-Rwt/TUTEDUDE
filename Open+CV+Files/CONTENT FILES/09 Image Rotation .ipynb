{
 "cells": [
  {
   "cell_type": "code",
   "execution_count": 2,
   "id": "f023c80e-9ceb-4a6e-9934-3993f9b3ba10",
   "metadata": {},
   "outputs": [],
   "source": [
    "import cv2"
   ]
  },
  {
   "cell_type": "code",
   "execution_count": 9,
   "id": "a8cbae99-bdb2-4c20-9454-46d72b336782",
   "metadata": {},
   "outputs": [],
   "source": [
    "img = cv2.imread(\"Highway.jpg\")\n",
    "row = img.shape[1]\n",
    "column = img.shape[0]\n",
    "\n",
    "center = (column/2 , row/2)\n",
    "angle = 90\n",
    "\n",
    "r = cv2.getRotationMatrix2D(center , angle , 1)\n",
    "rotate = cv2.warpAffine(img,r,(column, row))\n"
   ]
  },
  {
   "cell_type": "code",
   "execution_count": 10,
   "id": "92b19016-de70-45a2-b44d-a6ac602c9555",
   "metadata": {},
   "outputs": [
    {
     "ename": "AttributeError",
     "evalue": "module 'cv2' has no attribute 'destoryAllWindows'",
     "output_type": "error",
     "traceback": [
      "\u001b[1;31m---------------------------------------------------------------------------\u001b[0m",
      "\u001b[1;31mAttributeError\u001b[0m                            Traceback (most recent call last)",
      "Cell \u001b[1;32mIn[10], line 3\u001b[0m\n\u001b[0;32m      1\u001b[0m cv2\u001b[38;5;241m.\u001b[39mimshow(\u001b[38;5;124m\"\u001b[39m\u001b[38;5;124mRotated\u001b[39m\u001b[38;5;124m\"\u001b[39m , rotate)\n\u001b[0;32m      2\u001b[0m cv2\u001b[38;5;241m.\u001b[39mwaitKey(\u001b[38;5;241m0\u001b[39m)\n\u001b[1;32m----> 3\u001b[0m \u001b[43mcv2\u001b[49m\u001b[38;5;241;43m.\u001b[39;49m\u001b[43mdestoryAllWindows\u001b[49m()\n",
      "\u001b[1;31mAttributeError\u001b[0m: module 'cv2' has no attribute 'destoryAllWindows'"
     ]
    }
   ],
   "source": [
    "cv2.imshow(\"Rotated\" , rotate)\n",
    "cv2.waitKey(0)\n",
    "cv2.destoryAllWindows()"
   ]
  },
  {
   "cell_type": "code",
   "execution_count": null,
   "id": "b1f10ab0-7107-4814-ae1f-c11331429816",
   "metadata": {},
   "outputs": [],
   "source": []
  }
 ],
 "metadata": {
  "kernelspec": {
   "display_name": "Python 3 (ipykernel)",
   "language": "python",
   "name": "python3"
  },
  "language_info": {
   "codemirror_mode": {
    "name": "ipython",
    "version": 3
   },
   "file_extension": ".py",
   "mimetype": "text/x-python",
   "name": "python",
   "nbconvert_exporter": "python",
   "pygments_lexer": "ipython3",
   "version": "3.13.2"
  }
 },
 "nbformat": 4,
 "nbformat_minor": 5
}
