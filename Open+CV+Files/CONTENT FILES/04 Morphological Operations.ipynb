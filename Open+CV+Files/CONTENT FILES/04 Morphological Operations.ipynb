{
 "cells": [
  {
   "cell_type": "markdown",
   "id": "8cdc6de0-ee7e-4329-acb4-041ce08d9ec2",
   "metadata": {},
   "source": [
    "Import Libraries"
   ]
  },
  {
   "cell_type": "code",
   "execution_count": 31,
   "id": "1bcae798-bcaf-4b4e-9fd7-dabdc1df4f89",
   "metadata": {},
   "outputs": [],
   "source": [
    "import cv2 \n",
    "import numpy as np"
   ]
  },
  {
   "cell_type": "code",
   "execution_count": 32,
   "id": "81d4ec03-d7e7-45d4-bd3a-0e8ab67b17d3",
   "metadata": {},
   "outputs": [],
   "source": [
    "img = cv2.imread(\"people.jpg\")"
   ]
  },
  {
   "cell_type": "markdown",
   "id": "3b71c03f-de35-4c7c-874c-9280089e8e24",
   "metadata": {},
   "source": [
    "# Resize the Image "
   ]
  },
  {
   "cell_type": "code",
   "execution_count": 33,
   "id": "278eb02c-f83d-4501-bce8-4a7307615a6c",
   "metadata": {},
   "outputs": [],
   "source": [
    "#width = 600\n",
    "#height = 850\n",
    "#dim = (width,height)\n",
    "#resized = cv2.resize(img, dim)"
   ]
  },
  {
   "cell_type": "markdown",
   "id": "2104a2b4-fee6-4075-9727-a79d8c960e31",
   "metadata": {},
   "source": [
    "# Use the Kernel to change the value of the pixel"
   ]
  },
  {
   "cell_type": "code",
   "execution_count": 34,
   "id": "148017d9-5e33-4bfc-a45f-8a29c23ae196",
   "metadata": {},
   "outputs": [],
   "source": [
    "kernel = np.ones((5,5), dtype = 'uint8')"
   ]
  },
  {
   "cell_type": "markdown",
   "id": "be76b179-9804-42ac-9238-238f2da7c878",
   "metadata": {},
   "source": [
    "# Erosion"
   ]
  },
  {
   "cell_type": "code",
   "execution_count": 35,
   "id": "b1fe5405-aa91-4388-a98c-8af57028a822",
   "metadata": {},
   "outputs": [],
   "source": [
    "erosion = cv2.erode(resized , kernel , iterations = 1)"
   ]
  },
  {
   "cell_type": "markdown",
   "id": "63ceb74a-045a-4c6b-af08-c5badc0d2c17",
   "metadata": {},
   "source": [
    "# Dilation"
   ]
  },
  {
   "cell_type": "code",
   "execution_count": 36,
   "id": "807fb08f-28a7-4dc8-a845-94246faca2dd",
   "metadata": {},
   "outputs": [],
   "source": [
    "# dilation = cv2.dilate(resized , kernel , iterations = 1)"
   ]
  },
  {
   "cell_type": "markdown",
   "id": "24171ea1-5e3e-4b7d-84c9-de63c7ed0cc7",
   "metadata": {},
   "source": [
    "# Openning"
   ]
  },
  {
   "cell_type": "code",
   "execution_count": 37,
   "id": "0540b6fc-eb7e-41ba-b344-620d695bd457",
   "metadata": {},
   "outputs": [],
   "source": [
    "# opening = cv2.morphologyEx(resized , cv2.MORPH_OPEN, kernel)"
   ]
  },
  {
   "cell_type": "markdown",
   "id": "945547a4-289a-4c3c-b90c-04372b8db2ba",
   "metadata": {},
   "source": [
    "# Closing"
   ]
  },
  {
   "cell_type": "code",
   "execution_count": 38,
   "id": "ccb8e354-2cc6-43fd-93c3-3d35641cb11f",
   "metadata": {},
   "outputs": [],
   "source": [
    "# closing = cv2.morphologyEx(resized , cv2.MORPH_CLOSE, kernel)"
   ]
  },
  {
   "cell_type": "markdown",
   "id": "da01d192-8666-4837-b268-078e9c420a30",
   "metadata": {},
   "source": [
    "# Gradient"
   ]
  },
  {
   "cell_type": "code",
   "execution_count": 39,
   "id": "d96a2a5d-b9d9-423f-9962-e0340335f676",
   "metadata": {},
   "outputs": [],
   "source": [
    "# gradient = cv2.morphologyEx(resized , cv2.MORPH_GRADIENT, kernel)"
   ]
  },
  {
   "cell_type": "markdown",
   "id": "a7faefe2-4208-41bc-8c82-1d60d5d117c6",
   "metadata": {},
   "source": [
    "# Top Hat"
   ]
  },
  {
   "cell_type": "code",
   "execution_count": 40,
   "id": "f88e5d13-a612-431c-818b-1c7d26cd85be",
   "metadata": {},
   "outputs": [],
   "source": [
    "# tophat = cv2.morphologyEx(resized , cv2.MORPH_TOPHAT , kernel)"
   ]
  },
  {
   "cell_type": "markdown",
   "id": "10dc5954-8d50-4a4c-ae1e-5fd89db6ddb9",
   "metadata": {},
   "source": [
    "# Black Hat"
   ]
  },
  {
   "cell_type": "code",
   "execution_count": 41,
   "id": "eecee118-77a1-4d25-bdfe-1097d61094d9",
   "metadata": {},
   "outputs": [],
   "source": [
    "# blackhat = cv2.morphologyEx(resized , cv2.MORPH_BLACKHAT , kernel)"
   ]
  },
  {
   "cell_type": "markdown",
   "id": "71a56014-39f7-4b06-913e-5017ee2464a0",
   "metadata": {},
   "source": [
    "# Show all the images"
   ]
  },
  {
   "cell_type": "code",
   "execution_count": 42,
   "id": "d9a91780-e490-4e3f-b6b9-e78530ed9e7c",
   "metadata": {},
   "outputs": [
    {
     "ename": "AttributeError",
     "evalue": "module 'cv2' has no attribute 'destoryAllWindows'",
     "output_type": "error",
     "traceback": [
      "\u001b[1;31m---------------------------------------------------------------------------\u001b[0m",
      "\u001b[1;31mAttributeError\u001b[0m                            Traceback (most recent call last)",
      "Cell \u001b[1;32mIn[42], line 14\u001b[0m\n\u001b[0;32m      3\u001b[0m \u001b[38;5;66;03m# cv2.imshow(\"Dilation\" , dilation)\u001b[39;00m\n\u001b[0;32m      4\u001b[0m \n\u001b[0;32m      5\u001b[0m \u001b[38;5;66;03m# cv2.imshow(\"opening\" , opening)\u001b[39;00m\n\u001b[1;32m   (...)\u001b[0m\n\u001b[0;32m     10\u001b[0m \u001b[38;5;66;03m# cv2.imshow(\"Top Hat\" , tophat)\u001b[39;00m\n\u001b[0;32m     11\u001b[0m \u001b[38;5;66;03m# cv2.imshow(\"Black Hat\" , blackhat)\u001b[39;00m\n\u001b[0;32m     13\u001b[0m cv2\u001b[38;5;241m.\u001b[39mwaitKey(\u001b[38;5;241m0\u001b[39m)\n\u001b[1;32m---> 14\u001b[0m \u001b[43mcv2\u001b[49m\u001b[38;5;241;43m.\u001b[39;49m\u001b[43mdestoryAllWindows\u001b[49m()\n",
      "\u001b[1;31mAttributeError\u001b[0m: module 'cv2' has no attribute 'destoryAllWindows'"
     ]
    }
   ],
   "source": [
    "cv2.imshow(\"original\" , resized)\n",
    "# cv2.imshow(\"Erosion\" , erosion)\n",
    "# cv2.imshow(\"Dilation\" , dilation)\n",
    "\n",
    "# cv2.imshow(\"opening\" , opening)\n",
    "# cv2.imshow(\"closing\" , closing)\n",
    "\n",
    "# cv2.imshow(\"Gradient\" , gradient)\n",
    "\n",
    "# cv2.imshow(\"Top Hat\" , tophat)\n",
    "# cv2.imshow(\"Black Hat\" , blackhat)\n",
    "\n",
    "cv2.waitKey(0)\n",
    "cv2.destoryAllWindows()"
   ]
  },
  {
   "cell_type": "code",
   "execution_count": null,
   "id": "efee0321-74e3-4fa9-96dc-1f039650d376",
   "metadata": {},
   "outputs": [],
   "source": []
  },
  {
   "cell_type": "code",
   "execution_count": null,
   "id": "9324b7b6-c46d-45e9-847f-d4e056119c21",
   "metadata": {},
   "outputs": [],
   "source": []
  },
  {
   "cell_type": "code",
   "execution_count": null,
   "id": "bf6a1a30-32d9-4506-8c5b-1439686d5c48",
   "metadata": {},
   "outputs": [],
   "source": []
  }
 ],
 "metadata": {
  "kernelspec": {
   "display_name": "Python 3 (ipykernel)",
   "language": "python",
   "name": "python3"
  },
  "language_info": {
   "codemirror_mode": {
    "name": "ipython",
    "version": 3
   },
   "file_extension": ".py",
   "mimetype": "text/x-python",
   "name": "python",
   "nbconvert_exporter": "python",
   "pygments_lexer": "ipython3",
   "version": "3.13.2"
  }
 },
 "nbformat": 4,
 "nbformat_minor": 5
}
