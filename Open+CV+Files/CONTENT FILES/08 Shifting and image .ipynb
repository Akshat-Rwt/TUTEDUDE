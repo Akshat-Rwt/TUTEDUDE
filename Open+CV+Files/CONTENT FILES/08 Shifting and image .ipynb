{
 "cells": [
  {
   "cell_type": "code",
   "execution_count": 1,
   "id": "7e07e249-25d1-4fbf-8683-7c5f0453e268",
   "metadata": {},
   "outputs": [],
   "source": [
    "import cv2\n",
    "import numpy as np"
   ]
  },
  {
   "cell_type": "code",
   "execution_count": null,
   "id": "075fef44-7214-456e-ac00-cec24cebd4ca",
   "metadata": {},
   "outputs": [],
   "source": [
    "img = cv2.imread(\"Highway.jpg\")"
   ]
  },
  {
   "cell_type": "code",
   "execution_count": null,
   "id": "c8fd669f-b733-4bce-abce-c5dc11291a73",
   "metadata": {},
   "outputs": [],
   "source": [
    "column = img.shape[1]\n",
    "row = img.shape[0]\n",
    "\n",
    "s = np.float32([(1,0,150) , (0,1,)])"
   ]
  }
 ],
 "metadata": {
  "kernelspec": {
   "display_name": "Python 3 (ipykernel)",
   "language": "python",
   "name": "python3"
  },
  "language_info": {
   "codemirror_mode": {
    "name": "ipython",
    "version": 3
   },
   "file_extension": ".py",
   "mimetype": "text/x-python",
   "name": "python",
   "nbconvert_exporter": "python",
   "pygments_lexer": "ipython3",
   "version": "3.13.2"
  }
 },
 "nbformat": 4,
 "nbformat_minor": 5
}
