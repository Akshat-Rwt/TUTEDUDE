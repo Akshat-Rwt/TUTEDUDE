{
 "cells": [
  {
   "cell_type": "code",
   "execution_count": 1,
   "id": "221f7050-69e7-40ff-be19-d4a5638f3958",
   "metadata": {},
   "outputs": [],
   "source": [
    "import cv2"
   ]
  },
  {
   "cell_type": "code",
   "execution_count": 2,
   "id": "8afdf6f6-1c9a-428b-8716-fadc8d1d01c0",
   "metadata": {},
   "outputs": [],
   "source": [
    "img = cv2.imread(\"highway.jpg\")"
   ]
  },
  {
   "cell_type": "code",
   "execution_count": 3,
   "id": "6bb35bf5-6bf9-41c3-b794-5ff6d09007a9",
   "metadata": {},
   "outputs": [
    {
     "name": "stdout",
     "output_type": "stream",
     "text": [
      "Dimension of Original Image (864, 1200, 3)\n"
     ]
    }
   ],
   "source": [
    "print(\"Dimension of Original Image\" , img.shape )"
   ]
  },
  {
   "cell_type": "code",
   "execution_count": 12,
   "id": "fff2fc39-d1fa-4ceb-a9b2-52c3c329d5bc",
   "metadata": {},
   "outputs": [],
   "source": [
    "scale = 100\n",
    "\n",
    "width = int(img.shape[1] * scale /100)\n",
    "height = int(img.shape[1] *scale / 100)\n",
    "\n",
    "dim = (width , height)\n"
   ]
  },
  {
   "cell_type": "code",
   "execution_count": 15,
   "id": "2b46a148-3777-4771-84c3-7405d2d60bdb",
   "metadata": {},
   "outputs": [
    {
     "name": "stdout",
     "output_type": "stream",
     "text": [
      "Dimension of Resized Image :  (1200, 1200, 3)\n"
     ]
    }
   ],
   "source": [
    "resized = cv2.resize(img , dim , interpolation = cv2.INTER_LINEAR)\n",
    "print('Dimension of Resized Image : ' ,resized.shape)"
   ]
  },
  {
   "cell_type": "code",
   "execution_count": 16,
   "id": "028e5ec9-4868-4ed0-b628-b8907a9e60a2",
   "metadata": {},
   "outputs": [
    {
     "ename": "AttributeError",
     "evalue": "module 'cv2' has no attribute 'destoryAllWindows'",
     "output_type": "error",
     "traceback": [
      "\u001b[1;31m---------------------------------------------------------------------------\u001b[0m",
      "\u001b[1;31mAttributeError\u001b[0m                            Traceback (most recent call last)",
      "Cell \u001b[1;32mIn[16], line 5\u001b[0m\n\u001b[0;32m      2\u001b[0m cv2\u001b[38;5;241m.\u001b[39mimshow(\u001b[38;5;124m'\u001b[39m\u001b[38;5;124mOriginal\u001b[39m\u001b[38;5;124m'\u001b[39m , img)\n\u001b[0;32m      4\u001b[0m cv2\u001b[38;5;241m.\u001b[39mwaitKey(\u001b[38;5;241m0\u001b[39m)\n\u001b[1;32m----> 5\u001b[0m \u001b[43mcv2\u001b[49m\u001b[38;5;241;43m.\u001b[39;49m\u001b[43mdestoryAllWindows\u001b[49m()\n",
      "\u001b[1;31mAttributeError\u001b[0m: module 'cv2' has no attribute 'destoryAllWindows'"
     ]
    }
   ],
   "source": [
    "cv2.imshow('Resized' , resized)\n",
    "cv2.imshow('Original' , img)\n",
    "\n",
    "cv2.waitKey(0)\n",
    "cv2.destoryAllWindows()"
   ]
  },
  {
   "cell_type": "code",
   "execution_count": null,
   "id": "798746de-713b-4215-ada0-e585ad12c534",
   "metadata": {},
   "outputs": [],
   "source": []
  }
 ],
 "metadata": {
  "kernelspec": {
   "display_name": "Python 3 (ipykernel)",
   "language": "python",
   "name": "python3"
  },
  "language_info": {
   "codemirror_mode": {
    "name": "ipython",
    "version": 3
   },
   "file_extension": ".py",
   "mimetype": "text/x-python",
   "name": "python",
   "nbconvert_exporter": "python",
   "pygments_lexer": "ipython3",
   "version": "3.13.2"
  }
 },
 "nbformat": 4,
 "nbformat_minor": 5
}
