{
 "cells": [
  {
   "cell_type": "code",
   "execution_count": 1,
   "id": "66c2e182-97ed-4057-b120-8b5f26433dbe",
   "metadata": {},
   "outputs": [],
   "source": [
    "import cv2 "
   ]
  },
  {
   "cell_type": "code",
   "execution_count": 2,
   "id": "7783bf71-b453-4e2f-b3d4-2e2ac85719aa",
   "metadata": {},
   "outputs": [],
   "source": [
    "img = cv2.imread(\"highway.jpg\")"
   ]
  },
  {
   "cell_type": "code",
   "execution_count": 3,
   "id": "fff7b015-8d07-43f0-882d-148a85f45489",
   "metadata": {},
   "outputs": [],
   "source": [
    "width = 600\n",
    "height = 850\n",
    "dim = (width , height)\n",
    "\n",
    "resized = cv2.resize(img,dim)\n",
    "\n",
    "print('Size in bytes : ' , img.size)"
   ]
  },
  {
   "cell_type": "code",
   "execution_count": 8,
   "id": "9e436161-1ced-40e1-8b0b-2b3f461609fc",
   "metadata": {},
   "outputs": [
    {
     "ename": "AttributeError",
     "evalue": "module 'cv2' has no attribute 'destoryAllWindows'",
     "output_type": "error",
     "traceback": [
      "\u001b[1;31m---------------------------------------------------------------------------\u001b[0m",
      "\u001b[1;31mAttributeError\u001b[0m                            Traceback (most recent call last)",
      "Cell \u001b[1;32mIn[8], line 13\u001b[0m\n\u001b[0;32m     10\u001b[0m cv2\u001b[38;5;241m.\u001b[39mimshow(\u001b[38;5;124m'\u001b[39m\u001b[38;5;124mVerticial\u001b[39m\u001b[38;5;124m'\u001b[39m , flip)\n\u001b[0;32m     12\u001b[0m cv2\u001b[38;5;241m.\u001b[39mwaitKey(\u001b[38;5;241m0\u001b[39m)\n\u001b[1;32m---> 13\u001b[0m \u001b[43mcv2\u001b[49m\u001b[38;5;241;43m.\u001b[39;49m\u001b[43mdestoryAllWindows\u001b[49m()\n",
      "\u001b[1;31mAttributeError\u001b[0m: module 'cv2' has no attribute 'destoryAllWindows'"
     ]
    }
   ],
   "source": [
    "cv2.imshow('Original',resized)\n",
    "\n",
    "# flip = cv2.flip(resized, 1)\n",
    "# cv2.imshow(' Horizintal', flip)\n",
    "\n",
    "# flip = cv2.flip(resized , 0)\n",
    "# cv2.imshow(' Verticial' , flip)\n",
    "\n",
    "flip = cv2.flip(resized , -1)\n",
    "cv2.imshow(' Horizontal & Vertical ' , flip)\n",
    "\n",
    "cv2.waitKey(0)\n",
    "cv2.destoryAllWindows()\n"
   ]
  },
  {
   "cell_type": "code",
   "execution_count": null,
   "id": "6568b0a3-72af-49f1-a069-9e0c83ba9711",
   "metadata": {},
   "outputs": [],
   "source": []
  }
 ],
 "metadata": {
  "kernelspec": {
   "display_name": "Python 3 (ipykernel)",
   "language": "python",
   "name": "python3"
  },
  "language_info": {
   "codemirror_mode": {
    "name": "ipython",
    "version": 3
   },
   "file_extension": ".py",
   "mimetype": "text/x-python",
   "name": "python",
   "nbconvert_exporter": "python",
   "pygments_lexer": "ipython3",
   "version": "3.13.2"
  }
 },
 "nbformat": 4,
 "nbformat_minor": 5
}
