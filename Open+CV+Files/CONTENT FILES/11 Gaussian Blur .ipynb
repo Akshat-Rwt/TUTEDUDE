{
 "cells": [
  {
   "cell_type": "code",
   "execution_count": 1,
   "id": "1fcb6141-526a-4124-84c9-33dc6b2ec833",
   "metadata": {},
   "outputs": [],
   "source": [
    "import cv2"
   ]
  },
  {
   "cell_type": "code",
   "execution_count": 3,
   "id": "7e2b9c30-8c75-4d83-9a73-2ab1ebbc21af",
   "metadata": {},
   "outputs": [],
   "source": [
    "img = cv2.imread(\"Highway.jpg\")"
   ]
  },
  {
   "cell_type": "code",
   "execution_count": 4,
   "id": "e309e671-6c32-4cde-8966-b1aba9d6fe1c",
   "metadata": {},
   "outputs": [
    {
     "ename": "AttributeError",
     "evalue": "module 'cv2' has no attribute 'GaussainBlur'",
     "output_type": "error",
     "traceback": [
      "\u001b[1;31m---------------------------------------------------------------------------\u001b[0m",
      "\u001b[1;31mAttributeError\u001b[0m                            Traceback (most recent call last)",
      "Cell \u001b[1;32mIn[4], line 7\u001b[0m\n\u001b[0;32m      4\u001b[0m sigmax \u001b[38;5;241m=\u001b[39m \u001b[38;5;241m0\u001b[39m\n\u001b[0;32m      5\u001b[0m sigmay \u001b[38;5;241m=\u001b[39m \u001b[38;5;241m0\u001b[39m\n\u001b[1;32m----> 7\u001b[0m blur \u001b[38;5;241m=\u001b[39m \u001b[43mcv2\u001b[49m\u001b[38;5;241;43m.\u001b[39;49m\u001b[43mGaussainBlur\u001b[49m(resize , ksize , sigmax)\n",
      "\u001b[1;31mAttributeError\u001b[0m: module 'cv2' has no attribute 'GaussainBlur'"
     ]
    }
   ],
   "source": [
    "resized = cv2.resize(img , (600,600))\n",
    "\n",
    "ksize = (7 , 7)\n",
    "sigmax = 0\n",
    "sigmay = 0\n",
    "\n",
    "blur = cv2.GaussianBlur(resize , ksize , sigmax)\n"
   ]
  },
  {
   "cell_type": "code",
   "execution_count": null,
   "id": "111eace9-4d28-41fd-bceb-6a66e625bc21",
   "metadata": {},
   "outputs": [],
   "source": [
    "cv2.imshow(\"Input\" , resize)\n",
    "cv2.imshow(\"Output\", blur)\n",
    "\n",
    "cv2.waitKey(0)\n",
    "cv2.destroyAllWindows()\n"
   ]
  }
 ],
 "metadata": {
  "kernelspec": {
   "display_name": "Python 3 (ipykernel)",
   "language": "python",
   "name": "python3"
  },
  "language_info": {
   "codemirror_mode": {
    "name": "ipython",
    "version": 3
   },
   "file_extension": ".py",
   "mimetype": "text/x-python",
   "name": "python",
   "nbconvert_exporter": "python",
   "pygments_lexer": "ipython3",
   "version": "3.13.2"
  }
 },
 "nbformat": 4,
 "nbformat_minor": 5
}
