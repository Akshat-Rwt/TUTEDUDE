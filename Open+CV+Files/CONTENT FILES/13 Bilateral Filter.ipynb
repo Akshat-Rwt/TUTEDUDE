{
 "cells": [
  {
   "cell_type": "code",
   "execution_count": 1,
   "id": "b3e88779-ae8b-4faa-9252-537724f9b434",
   "metadata": {},
   "outputs": [],
   "source": [
    "import cv2"
   ]
  },
  {
   "cell_type": "code",
   "execution_count": 2,
   "id": "d6eb89e8-e2e6-47f9-878e-bc9ef2491227",
   "metadata": {},
   "outputs": [],
   "source": [
    "img = cv2.imread(\"bird.jpg\")"
   ]
  },
  {
   "cell_type": "code",
   "execution_count": 3,
   "id": "4cf299c8-a449-495b-8c4c-47d2f5fb97c7",
   "metadata": {},
   "outputs": [],
   "source": [
    "resize = cv2.resize(img , (520,520))\n",
    "\n",
    "d = 7 \n",
    "sigmacolor = 100\n",
    "sigmaspace = 100\n",
    "\n",
    "b = cv2.bilateralFilter (resize , d, sigmacolor , sigmaspace)\n"
   ]
  },
  {
   "cell_type": "code",
   "execution_count": null,
   "id": "c2a83881-6a48-4b11-820d-acafbdd7fafe",
   "metadata": {},
   "outputs": [],
   "source": [
    "cv2.imshow(\"Impu\")"
   ]
  }
 ],
 "metadata": {
  "kernelspec": {
   "display_name": "Python 3 (ipykernel)",
   "language": "python",
   "name": "python3"
  },
  "language_info": {
   "codemirror_mode": {
    "name": "ipython",
    "version": 3
   },
   "file_extension": ".py",
   "mimetype": "text/x-python",
   "name": "python",
   "nbconvert_exporter": "python",
   "pygments_lexer": "ipython3",
   "version": "3.13.2"
  }
 },
 "nbformat": 4,
 "nbformat_minor": 5
}
