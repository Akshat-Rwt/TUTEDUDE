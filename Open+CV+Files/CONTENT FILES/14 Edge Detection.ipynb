{
 "cells": [
  {
   "cell_type": "markdown",
   "id": "30e0f1e0-dce4-4c18-ab07-bc987f474c73",
   "metadata": {},
   "source": [
    "# Canny Edge Detection \n",
    "\n",
    "1. Noise Reduction\n",
    "2. Intensity of the gradient of the image\n",
    "3. Non-maximum suppression\n",
    "4. Thresholding "
   ]
  },
  {
   "cell_type": "code",
   "execution_count": 1,
   "id": "d34ac3aa-8dff-4b96-9f90-c6ae62212700",
   "metadata": {},
   "outputs": [],
   "source": [
    "import cv2 \n",
    "import numpy as np"
   ]
  },
  {
   "cell_type": "code",
   "execution_count": 2,
   "id": "04579e1e-88cd-4212-bf9a-9ef6befa8653",
   "metadata": {},
   "outputs": [],
   "source": [
    "img = cv2.imread(\"bird.jpg\",0)"
   ]
  },
  {
   "cell_type": "code",
   "execution_count": 3,
   "id": "11d56011-7015-41f0-a8e1-3e6b57d2c1b0",
   "metadata": {},
   "outputs": [],
   "source": [
    "resize = cv2.resize(img, (520,520))\n",
    "min_thresh = 100\n",
    "max_thresh = 200\n",
    "edges = cv2.Canny(resize , min_thresh , max_thresh)"
   ]
  },
  {
   "cell_type": "code",
   "execution_count": 4,
   "id": "b8c737cb-f870-488c-9562-ba8537b86bd6",
   "metadata": {},
   "outputs": [
    {
     "ename": "AttributeError",
     "evalue": "module 'cv2' has no attribute 'waitkey'",
     "output_type": "error",
     "traceback": [
      "\u001b[1;31m---------------------------------------------------------------------------\u001b[0m",
      "\u001b[1;31mAttributeError\u001b[0m                            Traceback (most recent call last)",
      "Cell \u001b[1;32mIn[4], line 4\u001b[0m\n\u001b[0;32m      1\u001b[0m cv2\u001b[38;5;241m.\u001b[39mimshow(\u001b[38;5;124m'\u001b[39m\u001b[38;5;124mOriginal\u001b[39m\u001b[38;5;124m'\u001b[39m , resize)\n\u001b[0;32m      2\u001b[0m cv2\u001b[38;5;241m.\u001b[39mimshow(\u001b[38;5;124m'\u001b[39m\u001b[38;5;124mEdges\u001b[39m\u001b[38;5;124m'\u001b[39m , edges)\n\u001b[1;32m----> 4\u001b[0m \u001b[43mcv2\u001b[49m\u001b[38;5;241;43m.\u001b[39;49m\u001b[43mwaitkey\u001b[49m(\u001b[38;5;241m0\u001b[39m)\n\u001b[0;32m      5\u001b[0m cv2\u001b[38;5;241m.\u001b[39mdestoryAllWindows()\n",
      "\u001b[1;31mAttributeError\u001b[0m: module 'cv2' has no attribute 'waitkey'"
     ]
    }
   ],
   "source": [
    "cv2.imshow('Original' , resize)\n",
    "cv2.imshow('Edges' , edges)\n",
    "\n",
    "cv2.waitKey(0)\n",
    "cv2.destoryAllWindows()"
   ]
  }
 ],
 "metadata": {
  "kernelspec": {
   "display_name": "Python 3 (ipykernel)",
   "language": "python",
   "name": "python3"
  },
  "language_info": {
   "codemirror_mode": {
    "name": "ipython",
    "version": 3
   },
   "file_extension": ".py",
   "mimetype": "text/x-python",
   "name": "python",
   "nbconvert_exporter": "python",
   "pygments_lexer": "ipython3",
   "version": "3.13.2"
  }
 },
 "nbformat": 4,
 "nbformat_minor": 5
}
