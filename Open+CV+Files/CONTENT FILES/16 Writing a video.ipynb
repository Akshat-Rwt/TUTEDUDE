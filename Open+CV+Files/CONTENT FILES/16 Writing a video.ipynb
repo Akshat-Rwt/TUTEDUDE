{
 "cells": [
  {
   "cell_type": "code",
   "execution_count": 2,
   "id": "28a18c15-f3ec-4e07-9a41-e50536466e3b",
   "metadata": {},
   "outputs": [],
   "source": [
    "import cv2"
   ]
  },
  {
   "cell_type": "code",
   "execution_count": 3,
   "id": "7b85649f-9d73-443a-83d8-5fb0470f39bf",
   "metadata": {},
   "outputs": [
    {
     "ename": "AttributeError",
     "evalue": "module 'cv2' has no attribute 'VideoWrite_fourcc'",
     "output_type": "error",
     "traceback": [
      "\u001b[1;31m---------------------------------------------------------------------------\u001b[0m",
      "\u001b[1;31mAttributeError\u001b[0m                            Traceback (most recent call last)",
      "Cell \u001b[1;32mIn[3], line 3\u001b[0m\n\u001b[0;32m      1\u001b[0m video \u001b[38;5;241m=\u001b[39m cv2\u001b[38;5;241m.\u001b[39mVideoCapture(\u001b[38;5;124m\"\u001b[39m\u001b[38;5;124mnature.mp4\u001b[39m\u001b[38;5;124m\"\u001b[39m) \u001b[38;5;66;03m# If we use 0 instead of nature.mp4 it can take the video from the camera \u001b[39;00m\n\u001b[1;32m----> 3\u001b[0m fourcc \u001b[38;5;241m=\u001b[39m \u001b[43mcv2\u001b[49m\u001b[38;5;241;43m.\u001b[39;49m\u001b[43mVideoWrite_fourcc\u001b[49m(\u001b[38;5;241m*\u001b[39m\u001b[38;5;124m\"\u001b[39m\u001b[38;5;124mmp4v\u001b[39m\u001b[38;5;124m\"\u001b[39m) \u001b[38;5;66;03m# It show you in which format you can compress the video \u001b[39;00m\n\u001b[0;32m      5\u001b[0m output \u001b[38;5;241m=\u001b[39m cv2\u001b[38;5;241m.\u001b[39mVideoWrite(\u001b[38;5;124m'\u001b[39m\u001b[38;5;124mOutput.mp4\u001b[39m\u001b[38;5;124m'\u001b[39m,fourcc , \u001b[38;5;241m25.0\u001b[39m , (\u001b[38;5;241m1920\u001b[39m,\u001b[38;5;241m1080\u001b[39m)) \u001b[38;5;66;03m# 25 is the FPS and 1920, 1080 is the Fame Weight\u001b[39;00m\n\u001b[0;32m      7\u001b[0m \u001b[38;5;28;01mwhile\u001b[39;00m video\u001b[38;5;241m.\u001b[39misOpened():\n",
      "\u001b[1;31mAttributeError\u001b[0m: module 'cv2' has no attribute 'VideoWrite_fourcc'"
     ]
    }
   ],
   "source": [
    "video = cv2.VideoCapture(\"nature.mp4\") # If we use 0 instead of nature.mp4 it can take the video from the camera \n",
    "\n",
    "fourcc = cv2.VideoWrite_fourcc(*\"mp4v\") # It show you in which format you can compress the video \n",
    "\n",
    "output = cv2.VideoWrite('Output.mp4',fourcc , 25.0 , (1920,1080)) # 25 is the FPS and 1920, 1080 is the Fame Weight\n",
    "\n",
    "while video.isOpened():\n",
    "    ret,frame = video.read()\n",
    "    if ret:\n",
    "        output.write(frame)\n",
    "        cv2.imshow(\"Farme\",frame)\n",
    "\n",
    "        if cv2.waitKey(10) == ord(\"s\"):\n",
    "            break\n",
    "    else:\n",
    "        break\n",
    "\n",
    "cv2.destoryAllWindows()"
   ]
  }
 ],
 "metadata": {
  "kernelspec": {
   "display_name": "Python 3 (ipykernel)",
   "language": "python",
   "name": "python3"
  },
  "language_info": {
   "codemirror_mode": {
    "name": "ipython",
    "version": 3
   },
   "file_extension": ".py",
   "mimetype": "text/x-python",
   "name": "python",
   "nbconvert_exporter": "python",
   "pygments_lexer": "ipython3",
   "version": "3.13.2"
  }
 },
 "nbformat": 4,
 "nbformat_minor": 5
}
